{
 "cells": [
  {
   "cell_type": "markdown",
   "id": "657be689",
   "metadata": {},
   "source": [
    "# Самостоятельное задание #3\n",
    "\n",
    "\n",
    "### Задание 1\n",
    "\n",
    "Допишите функцию, которая принимает массив из 10 чисел и возвращает их сумму."
   ]
  },
  {
   "cell_type": "code",
   "execution_count": null,
   "id": "18ffcbab",
   "metadata": {},
   "outputs": [],
   "source": [
    "def sumarr(a):\n",
    "    sum:int = 0\n",
    "    for i in range(0, 10):\n",
    "        sum += a[i]\n",
    "    return sum\n",
    "sumarr([1, 2 , 3, 4, 5, 6, 7, 8, 9, 10])"
   ]
  },
  {
   "cell_type": "markdown",
   "id": "eb78afc0",
   "metadata": {},
   "source": [
    "\n",
    "### Задание 2\n",
    "\n",
    "Допишите функцию, которая принимает массив чисел и возвращает количество чисел равных нулю."
   ]
  },
  {
   "cell_type": "code",
   "execution_count": null,
   "id": "7e8fe536",
   "metadata": {},
   "outputs": [],
   "source": [
    "# Начните писать код тут\n",
    "def zero(a):\n",
    "    count = 0\n",
    "    for i in range(0, len(a)):\n",
    "        if(a[i] == 0): count += 1\n",
    "    return count\n",
    "zero([1, 2, 3, 0])"
   ]
  },
  {
   "cell_type": "markdown",
   "id": "570d5a26",
   "metadata": {},
   "source": [
    "\n",
    "### Задание 3\n",
    "\n",
    "Напишите программу, в которой задается  натуральное число n и выводится лестница из n ступенек, i-я ступенька должна состоять из чисел от 1 до i без пробелов."
   ]
  },
  {
   "cell_type": "code",
   "execution_count": null,
   "id": "69fd0501",
   "metadata": {},
   "outputs": [],
   "source": [
    "\n",
    "# Начните писать код тут\n",
    "n = int(input())\n",
    "for i in range(1, n + 1):\n",
    "    for j in range(1, i + 1):\n",
    "        print(j, end=\"\")\n",
    "    print(\"\")"
   ]
  },
  {
   "cell_type": "markdown",
   "id": "b6ef1c44",
   "metadata": {},
   "source": [
    "\n",
    "### Задание 4\n",
    "\n",
    "Напишите программу, в которой задается натуральное число n и выводится пирамида из n ступенек, i-я ступень должна состоять из чисел от 1 до i и обратно без пробелов."
   ]
  },
  {
   "cell_type": "code",
   "execution_count": 3,
   "id": "6b038f87",
   "metadata": {},
   "outputs": [
    {
     "name": "stdout",
     "output_type": "stream",
     "text": [
      "      11      \n",
      "     1221     \n",
      "    123321    \n",
      "   12344321   \n",
      "  1234554321  \n",
      " 123456654321 \n",
      "12345677654321\n"
     ]
    }
   ],
   "source": [
    "n = int(input())\n",
    "for i in range(1, n + 1):\n",
    "    print(\" \"*((2*n - 2*i) // 2), end=\"\")\n",
    "    print(*range(1, i + 1), sep=\"\", end='')\n",
    "    print(*range(i, 0, -1), sep=\"\", end='')\n",
    "    print(\" \"*((2*n - 2*i) // 2))"
   ]
  },
  {
   "cell_type": "markdown",
   "id": "b4552ef5",
   "metadata": {},
   "source": [
    "\n",
    "### Задание 5\n",
    "\n",
    "Напишите программу, в которой задается натуральное число n и выводится ромб из `n*2-1` ступенек, i-я ступень должна состоять из чисел от 1 до i и обратно без пробелов."
   ]
  },
  {
   "cell_type": "code",
   "execution_count": 2,
   "id": "5eaae897",
   "metadata": {},
   "outputs": [
    {
     "name": "stdout",
     "output_type": "stream",
     "text": [
      "      11      \n",
      "     1221     \n",
      "    123321    \n",
      "   12344321   \n",
      "  1234554321  \n",
      " 123456654321 \n",
      "12345677654321\n",
      "12345677654321\n",
      " 123456654321 \n",
      "  1234554321  \n",
      "   12344321   \n",
      "    123321    \n",
      "     1221     \n",
      "      11      \n"
     ]
    }
   ],
   "source": [
    "n = int(input())\n",
    "for i in range(1, n + 1):\n",
    "    print(\" \"*((2*n - 2*i) // 2), end=\"\")\n",
    "    print(*range(1, i + 1), sep=\"\", end='')\n",
    "    print(*range(i, 0, -1), sep=\"\", end='')\n",
    "    print(\" \"*((2*n - 2*i) // 2))\n",
    "for i in range(n, 0, -1):\n",
    "    print(\" \"*((2*n - 2*i) // 2), end=\"\")\n",
    "    print(*range(1, i + 1), sep=\"\", end='')\n",
    "    print(*range(i, 0, -1), sep=\"\", end='')\n",
    "    print(\" \"*((2*n - 2*i) // 2))"
   ]
  }
 ],
 "metadata": {
  "kernelspec": {
   "display_name": "Python 3.10.4 64-bit",
   "language": "python",
   "name": "python3"
  },
  "language_info": {
   "codemirror_mode": {
    "name": "ipython",
    "version": 3
   },
   "file_extension": ".py",
   "mimetype": "text/x-python",
   "name": "python",
   "nbconvert_exporter": "python",
   "pygments_lexer": "ipython3",
   "version": "3.10.4"
  },
  "vscode": {
   "interpreter": {
    "hash": "916dbcbb3f70747c44a77c7bcd40155683ae19c65e1c03b4aa3499c5328201f1"
   }
  }
 },
 "nbformat": 4,
 "nbformat_minor": 5
}
