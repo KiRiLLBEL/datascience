{
 "cells": [
  {
   "cell_type": "markdown",
   "id": "d89e88d8",
   "metadata": {},
   "source": [
    "# Самостоятельное задание #7\n",
    "\n",
    "\n",
    "### Задание 1\n",
    "\n",
    "Допишите функцию, которая принимает список чисел и, с помощью множеств, определяет количество различных чисел внутри списка."
   ]
  },
  {
   "cell_type": "code",
   "execution_count": 1,
   "id": "1b443f02",
   "metadata": {},
   "outputs": [],
   "source": [
    "def func(a=list):\n",
    "    s = {i for i in a}\n",
    "    return len(s)\n",
    "a = [1,2,3,4,5,5]\n",
    "func(a)"
   ]
  },
  {
   "cell_type": "markdown",
   "id": "89118666",
   "metadata": {},
   "source": [
    "### Задание 2\n",
    "\n",
    "Допишите функцию, которая принимает несколько списков чисел и, с помощью множеств, определяет количество общих чисел из первого и второго списка."
   ]
  },
  {
   "cell_type": "code",
   "execution_count": null,
   "id": "9ad5e3fd",
   "metadata": {},
   "outputs": [],
   "source": [
    "def func(a:list, b:list):\n",
    "    s1 = set(a)\n",
    "    s2 = set(b)\n",
    "    return len(s1.intersection(s2))\n",
    "a = [1, 2, 3]\n",
    "b = [2]\n",
    "func(a, b)"
   ]
  }
 ],
 "metadata": {
  "kernelspec": {
   "display_name": "Python 3.10.4 64-bit",
   "language": "python",
   "name": "python3"
  },
  "language_info": {
   "codemirror_mode": {
    "name": "ipython",
    "version": 3
   },
   "file_extension": ".py",
   "mimetype": "text/x-python",
   "name": "python",
   "nbconvert_exporter": "python",
   "pygments_lexer": "ipython3",
   "version": "3.10.4"
  },
  "vscode": {
   "interpreter": {
    "hash": "916dbcbb3f70747c44a77c7bcd40155683ae19c65e1c03b4aa3499c5328201f1"
   }
  }
 },
 "nbformat": 4,
 "nbformat_minor": 5
}
